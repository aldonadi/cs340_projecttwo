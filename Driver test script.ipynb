{
 "cells": [
  {
   "cell_type": "code",
   "execution_count": 1,
   "id": "a4d363d7",
   "metadata": {},
   "outputs": [],
   "source": [
    "from aac_crud_driver import AnimalShelter"
   ]
  },
  {
   "cell_type": "code",
   "execution_count": 2,
   "id": "939e334d",
   "metadata": {
    "scrolled": false
   },
   "outputs": [
    {
     "name": "stdout",
     "output_type": "stream",
     "text": [
      "FOR IMMEDEDIATE RELEASE: Notorious wombat brought to justice.\n"
     ]
    }
   ],
   "source": [
    "### CONNECT to the database\n",
    "\n",
    "# create an animal shelter CRUD object, passing in credentials\n",
    "high_security_shelter = AnimalShelter(\n",
    "    { \n",
    "        \"username\": \"aacuser\",\n",
    "        \"password\": \"i3-bNzTV6OF#V-'a00e+=iKh&JQs\"\n",
    "    }\n",
    ")\n",
    "\n",
    "print(\"FOR IMMEDEDIATE RELEASE: Notorious wombat brought to justice.\")\n",
    "\n",
    "# set up the data for the new record we will be creating\n",
    "wombat_most_wanted = {\n",
    "    \"animal_type\": \"Wombat\",\n",
    "    \"name\": \"Scratch McGrubbs\",\n",
    "    \"breed\": \"Lasiorhinus latifrons\",\n",
    "    \"age_upon_outcome\": \"4 years\",\n",
    "    \"outcome_type\": \"Captured at long last\",\n",
    "    \"outcome_subtype\": \"Nabbed by US Marshal\",\n",
    "    \"color\": \"brown\",\n",
    "    \"rec_num\": 10001,\n",
    "    \"animal_id\": \"A799999\",\n",
    "    \"location_lat\": -31.9506,\n",
    "    \"location_long\": 148.7583,\n",
    "    \"date_of_birth\": \"2019-05-15\",\n",
    "    \"datetime\": \"2023-11-01T02:45:00\",\n",
    "    \"sex_upon_outcome\": \"Male\"\n",
    "}"
   ]
  },
  {
   "cell_type": "code",
   "execution_count": 3,
   "id": "6e580cf9",
   "metadata": {},
   "outputs": [
    {
     "name": "stdout",
     "output_type": "stream",
     "text": [
      "Ready to book the scoundrel.\n"
     ]
    }
   ],
   "source": [
    "### READ a record that doesn't exist\n",
    "\n",
    "# try to find the record we will be adding\n",
    "# should return an empty list since it doesn't exist in the database yet\n",
    "record = high_security_shelter.find(wombat_most_wanted)\n",
    "\n",
    "if record == []:\n",
    "    print(\"Ready to book the scoundrel.\")\n",
    "else:\n",
    "    raise Exception(\"McGrubbs has already been booked!\")"
   ]
  },
  {
   "cell_type": "code",
   "execution_count": 4,
   "id": "991e2097",
   "metadata": {},
   "outputs": [
    {
     "name": "stdout",
     "output_type": "stream",
     "text": [
      "Booked. The long arm of the law triumphs again.\n"
     ]
    }
   ],
   "source": [
    "### CREATE a new record\n",
    "\n",
    "# now create the new record and verify it is saved in the database\n",
    "# we save the boolean returned by create to give an error if it failed\n",
    "create_result = high_security_shelter.create(wombat_most_wanted)\n",
    "\n",
    "if not create_result:\n",
    "    raise Exception(\"Failed to create the new record!\")\n",
    "else:\n",
    "    print(\"Booked. The long arm of the law triumphs again.\")"
   ]
  },
  {
   "cell_type": "code",
   "execution_count": 5,
   "id": "2b1a7da5",
   "metadata": {},
   "outputs": [
    {
     "name": "stdout",
     "output_type": "stream",
     "text": [
      "Booking Data:\n",
      "[{'animal_type': 'Wombat', 'name': 'Scratch McGrubbs', 'breed': 'Lasiorhinus latifrons', 'age_upon_outcome': '4 years', 'outcome_type': 'Captured at long last', 'outcome_subtype': 'Nabbed by US Marshal', 'color': 'brown', 'rec_num': 10001, 'animal_id': 'A799999', 'location_lat': -31.9506, 'location_long': 148.7583, 'date_of_birth': '2019-05-15', 'datetime': '2023-11-01T02:45:00', 'sex_upon_outcome': 'Male'}]\n"
     ]
    }
   ],
   "source": [
    "### READ records that exist\n",
    "\n",
    "booking_data = high_security_shelter.find(wombat_most_wanted)\n",
    "print(\"Booking Data:\")\n",
    "print(booking_data)"
   ]
  },
  {
   "cell_type": "code",
   "execution_count": 6,
   "id": "f4a5d1ad",
   "metadata": {},
   "outputs": [
    {
     "name": "stdout",
     "output_type": "stream",
     "text": [
      "BREAKING: Dangerous inmate busted out by fellow outlaws!\n"
     ]
    }
   ],
   "source": [
    "### UPDATE a record\n",
    "\n",
    "# make a dict of the fields with updated data\n",
    "\n",
    "print(\"BREAKING: Dangerous inmate busted out by fellow outlaws!\")\n",
    "\n",
    "shocking_news = {\n",
    "    \"outcome_type\": \"Escaped\",\n",
    "    \"outcome_subtype\": \"Sprung by posse\"\n",
    "}\n",
    "\n",
    "# update the record with the new data\n",
    "update_result = high_security_shelter.update(wombat_most_wanted, shocking_news)\n",
    "\n",
    "num_updated = update_result['modified_count']\n",
    "\n",
    "if update_result['modified_count'] != 1:\n",
    "    raise Exception(\"No matching records to update!\")"
   ]
  },
  {
   "cell_type": "code",
   "execution_count": 7,
   "id": "b3ddaf9e",
   "metadata": {},
   "outputs": [
    {
     "name": "stdout",
     "output_type": "stream",
     "text": [
      "Bribe accepted; let's forget this ever happened...\n",
      "Scratch McGrubbs wins again.\n"
     ]
    }
   ],
   "source": [
    "### DELETE a record\n",
    "\n",
    "print(\"Bribe accepted; let's forget this ever happened...\")\n",
    "\n",
    "the_wombat = { \"name\": \"Scratch McGrubbs\" }\n",
    "\n",
    "delete_result = high_security_shelter.delete(the_wombat)\n",
    "\n",
    "if delete_result['deleted_count'] != 1:\n",
    "    raise Exception(\"Failed to destroy the evidence!\")\n",
    "\n",
    "print(\"Scratch McGrubbs wins again.\")"
   ]
  }
 ],
 "metadata": {
  "kernelspec": {
   "display_name": "Python 3 (ipykernel)",
   "language": "python",
   "name": "python3"
  },
  "language_info": {
   "codemirror_mode": {
    "name": "ipython",
    "version": 3
   },
   "file_extension": ".py",
   "mimetype": "text/x-python",
   "name": "python",
   "nbconvert_exporter": "python",
   "pygments_lexer": "ipython3",
   "version": "3.12.3"
  }
 },
 "nbformat": 4,
 "nbformat_minor": 5
}
