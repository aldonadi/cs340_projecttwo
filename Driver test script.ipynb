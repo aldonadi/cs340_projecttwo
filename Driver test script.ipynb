{
 "cells": [
  {
   "cell_type": "code",
   "execution_count": 1,
   "id": "a4d363d7",
   "metadata": {},
   "outputs": [],
   "source": [
    "from aac_crud_driver import AnimalShelter"
   ]
  },
  {
   "cell_type": "code",
   "execution_count": 2,
   "id": "939e334d",
   "metadata": {
    "scrolled": false
   },
   "outputs": [],
   "source": [
    "# create an animal shelter CRUD object\n",
    "a = AnimalShelter()\n",
    "\n",
    "# set up the data for the new record we will be creating\n",
    "new_record = {\n",
    "    \"rec_num\": 20000,\n",
    "    \"age_upon_outcome\": \"5 years\",\n",
    "    \"animal_id\": \"A773822\",\n",
    "    \"animal_type\": \"Opossum\",\n",
    "    \"breed\": \"Virginia\",\n",
    "    \"color\": \"grey\",\n",
    "    \"location_lat\": 40.7128,\n",
    "    \"location_long\": -74.0060,\n",
    "    \"date_of_birth\": \"Unknown\",\n",
    "    \"datetime\": \"2023-10-25T14:30:00\",\n",
    "    \"outcome_subtype\": \"Suffering\",\n",
    "    \"outcome_type\": \"Euthanasia\",\n",
    "    \"sex_upon_outcome\": \"Intact male\"\n",
    "}\n"
   ]
  },
  {
   "cell_type": "code",
   "execution_count": 3,
   "id": "6e580cf9",
   "metadata": {},
   "outputs": [
    {
     "name": "stdout",
     "output_type": "stream",
     "text": [
      "[]\n"
     ]
    }
   ],
   "source": [
    "# try to find the record we will be adding\n",
    "# should return an empty list since it doesn't exist in the database yet\n",
    "record = a.find(new_record)\n",
    "print(record)"
   ]
  },
  {
   "cell_type": "code",
   "execution_count": 4,
   "id": "991e2097",
   "metadata": {},
   "outputs": [
    {
     "name": "stdout",
     "output_type": "stream",
     "text": [
      "[{'_id': ObjectId('67a01d756bb56a10fe6a4b45'), 'rec_num': 20000, 'age_upon_outcome': '5 years', 'animal_id': 'A773822', 'animal_type': 'Opossum', 'breed': 'Virginia', 'color': 'grey', 'location_lat': 40.7128, 'location_long': -74.006, 'date_of_birth': 'Unknown', 'datetime': '2023-10-25T14:30:00', 'outcome_subtype': 'Suffering', 'outcome_type': 'Euthanasia', 'sex_upon_outcome': 'Intact male'}]\n"
     ]
    }
   ],
   "source": [
    "# now create the new record and verify it is saved in the database\n",
    "# we save the boolean returned by create to give an error if it failed\n",
    "create_result = a.create(new_record)\n",
    "\n",
    "if not create_result:\n",
    "    print(\"Failed to create the new record!\")\n",
    "else:\n",
    "    record = a.find(new_record)\n",
    "    print(record)"
   ]
  }
 ],
 "metadata": {
  "kernelspec": {
   "display_name": "Python 3 (ipykernel)",
   "language": "python",
   "name": "python3"
  },
  "language_info": {
   "codemirror_mode": {
    "name": "ipython",
    "version": 3
   },
   "file_extension": ".py",
   "mimetype": "text/x-python",
   "name": "python",
   "nbconvert_exporter": "python",
   "pygments_lexer": "ipython3",
   "version": "3.12.3"
  }
 },
 "nbformat": 4,
 "nbformat_minor": 5
}
